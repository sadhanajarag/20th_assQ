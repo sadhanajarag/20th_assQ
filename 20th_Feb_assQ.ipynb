{
 "cells": [
  {
   "cell_type": "markdown",
   "id": "a82c443f-454b-4853-88bb-f49525a33435",
   "metadata": {},
   "source": [
    "# Q1. Explain GET and POST methods."
   ]
  },
  {
   "cell_type": "code",
   "execution_count": null,
   "id": "0aa7ee26-7c1f-4fb7-8ff3-d7bc55f1f739",
   "metadata": {},
   "outputs": [],
   "source": [
    "GET is HTTP Method\n",
    "\n",
    "The GET Method:\n",
    "    \n",
    "GET is used to request data from a specified resource.\n",
    "\n",
    "Note that the query string (name/value pairs) is sent in the URL of a GET request:\n",
    "\n",
    "/test/demo_form.php?name1=value1&name2=value2\n",
    "\n",
    "Note:\n",
    "\n",
    "GET requests can be cached\n",
    "GET requests remain in the browser history\n",
    "GET requests can be bookmarked\n",
    "GET requests should never be used when dealing with sensitive data\n",
    "GET requests have length restrictions\n",
    "GET requests are only used to request data (not modify)"
   ]
  },
  {
   "cell_type": "code",
   "execution_count": null,
   "id": "8dcbae4f-8522-40b1-b2c9-a635896e5a25",
   "metadata": {},
   "outputs": [],
   "source": [
    "The POST Method:\n",
    "    \n",
    "POST is used to send data to a server to create/update a resource.\n",
    "\n",
    "The data sent to the server with POST is stored in the request body of the HTTP request:\n",
    "\n",
    "POST /test/demo_form.php HTTP/1.1\n",
    "Host :'0.0.0.0'\n",
    "\n",
    "name1=value1&name2=value2\n",
    "\n",
    "Note:\n",
    "\n",
    "POST requests are never cached\n",
    "POST requests do not remain in the browser history\n",
    "POST requests cannot be bookmarked\n",
    "POST requests have no restrictions on data length"
   ]
  },
  {
   "cell_type": "markdown",
   "id": "ba67b6c4-752c-4ea6-8a3c-3fdc3890eae7",
   "metadata": {},
   "source": [
    "## Q2. Why is request used in Flask?"
   ]
  },
  {
   "cell_type": "markdown",
   "id": "cc7d5825-2ce7-404b-beea-eae1f13ca047",
   "metadata": {},
   "source": [
    "Ans:\n",
    "\n",
    "The communication from end-user to server running Flask happens through the usage of Flask’s global Request object. \n",
    "This has to be specifically imported from Flask module. Request objects important attributes are:\n",
    "\n",
    "method:- It defines the HTTP method request object type. \n",
    "Form:- It contains a dictionary object of all the Form attributes and its values. \n",
    "args:- contents sent as part of query string in the URL after a (?) mark.used for GET method.\n",
    "files:- data in which was uploaded to the application.\n",
    "\n"
   ]
  },
  {
   "cell_type": "markdown",
   "id": "2bdef49b-d433-4d6c-bedd-f7c06f5eaf3a",
   "metadata": {},
   "source": [
    "## Q3. Why is redirect() used in Flask?"
   ]
  },
  {
   "cell_type": "code",
   "execution_count": null,
   "id": "1b557f30-eb66-4fe0-a9c6-1c061ebddad5",
   "metadata": {},
   "outputs": [],
   "source": [
    "redirect : when called, basically redirects the Webpage to another URL.\n",
    "\n",
    "A redirect is used in the Flask class to send the user to a particular URL with the status code. \n",
    "conversely, this status code additionally identifies the issue.\n",
    "When we access a website, our browser sends a request to the server, and the server replies with what is known as the HTTP status code, which is a three-digit number.\n",
    "\n",
    "redirect is an essential part of web applications and also increases the efficiency of the application\n",
    "\n",
    "syntax:\n",
    "    redirect(location, code, response = None)\n",
    "    \n",
    "location: Target location of the final webpage\n",
    "Status Code: These are the HTTP redirect status code, to indicate the output of the action. Defaults to 302\n",
    "Response: Response calls to use when initiating the response.\n",
    "\n"
   ]
  },
  {
   "cell_type": "markdown",
   "id": "8ab2ab23-bf74-46c4-9b28-4f2eee69eb4f",
   "metadata": {},
   "source": [
    "# Q4. What are templates in Flask? Why is the render_template() function used?"
   ]
  },
  {
   "cell_type": "code",
   "execution_count": null,
   "id": "9f61b66c-7068-4290-ba0c-22d1f993f8e3",
   "metadata": {},
   "outputs": [],
   "source": [
    "\n",
    "Templates are files that contain static data as well as placeholders for dynamic data.\n",
    "A template is rendered with specific data to produce a final document. \n",
    "Flask uses the Jinja template library to render templates.\n",
    "\n",
    "In your application, you will use templates to render HTML which will display in the user’s browser. \n",
    "Anything between {{ and }} is an expression that will be output to the final document. \n",
    "{% and %} denotes a control flow statement like if and for. \n",
    "\n",
    "Now, we need a way to actually link the template with a specific route or URL. \n",
    "This means whenever the user goes to a specific URL then a specific template should be rendered or generated.\n",
    "render_template method to send data from back-end to front-end .\n",
    "The render_template() function renders the template and returns HTML as a string. \n",
    "when we want to render to other page then we user render_tenplate function where we can give the path for the page where we want to render.\n",
    "we can pass the variables to the template engine as keyword arguments.\n",
    "\n",
    "e.g/.\n",
    "@app.route('/hello/')\n",
    "@app.route('/hello/<name>')\n",
    "def hello(name=None):\n",
    "    return render_template('hello.html', name=name)\n"
   ]
  },
  {
   "cell_type": "markdown",
   "id": "78c22fbd-315e-487d-83c3-8a08ada80fee",
   "metadata": {},
   "source": [
    "## Q5. Create a simple API. Use Postman to test it. Attach the screenshot of the output in the Jupyter Notebook."
   ]
  },
  {
   "cell_type": "code",
   "execution_count": null,
   "id": "1df783d8-83a6-4d29-95c4-61ef82d32772",
   "metadata": {},
   "outputs": [],
   "source": [
    "from flask import Flask, request,jsonify\n",
    "\n",
    "app = Flask(__name__)\n",
    "\n",
    "@app.route(\"/postman_action_op\",methods = [\"POST\"])\n",
    "def math_ops2():\n",
    "    if (request.method == 'POST'):\n",
    "        ops = request.json['operation']\n",
    "        num1 = float(request.json['num1'])\n",
    "        num2 = float(request.json['num2'])\n",
    "        num3 = float(request.json['num3'])\n",
    "        if ops == 'avg':\n",
    "            r = (num1 + num2 + num3)/3\n",
    "            result = \"The avarage of \" + str(num1)+' and '+str(num2)+\" with \"+str(num3)+\" is \"+str(r)\n",
    "        if ops == 'max':\n",
    "            if (num1>num2 and num1>num3):\n",
    "                result = \"Max number is: \" +str(num1)\n",
    "            elif (num2>num1 and num2>num3):\n",
    "                result = \"Max number is: \" +str(num2)\n",
    "            else:\n",
    "                result = \"Max number is: \" +str(num3)\n",
    "\n",
    "        return jsonify(result)\n",
    "\n",
    "if __name__ == \"__main__\":\n",
    "    app.run(host = '0.0.0.0')"
   ]
  }
 ],
 "metadata": {
  "kernelspec": {
   "display_name": "Python 3 (ipykernel)",
   "language": "python",
   "name": "python3"
  },
  "language_info": {
   "codemirror_mode": {
    "name": "ipython",
    "version": 3
   },
   "file_extension": ".py",
   "mimetype": "text/x-python",
   "name": "python",
   "nbconvert_exporter": "python",
   "pygments_lexer": "ipython3",
   "version": "3.10.8"
  }
 },
 "nbformat": 4,
 "nbformat_minor": 5
}
